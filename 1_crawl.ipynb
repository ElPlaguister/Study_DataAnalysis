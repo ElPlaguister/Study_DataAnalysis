{
 "cells": [
  {
   "cell_type": "code",
   "execution_count": 1,
   "source": [
    "from bs4 import BeautifulSoup"
   ],
   "outputs": [],
   "metadata": {}
  },
  {
   "cell_type": "code",
   "execution_count": 5,
   "source": [
    "html = open('test.html', 'r').read()\n",
    "soup = BeautifulSoup(html)"
   ],
   "outputs": [],
   "metadata": {}
  },
  {
   "cell_type": "markdown",
   "source": [
    "# Find 사용 #\n",
    "- 쿼리에 해당하는 가장 처음 나오는 html출력\n",
    "- find_all : 쿼리에 해당하는 모든 html list로 반환"
   ],
   "metadata": {}
  },
  {
   "cell_type": "code",
   "execution_count": 13,
   "source": [
    "soup.find('div', class_='test')\n",
    "attrs = {'id':'upper', 'class':'test', 'custom':'good'}\n",
    "soup.find('div', attrs=attrs)"
   ],
   "outputs": [
    {
     "output_type": "execute_result",
     "data": {
      "text/plain": [
       "<div class=\"test\" custom=\"good\" id=\"upper\">\n",
       "<h3 title=\"Good Content Title\">Contents Title</h3>\n",
       "<p>Test contents</p>\n",
       "</div>"
      ]
     },
     "metadata": {},
     "execution_count": 13
    }
   ],
   "metadata": {}
  },
  {
   "cell_type": "code",
   "execution_count": 14,
   "source": [
    "soup.find_all('p')"
   ],
   "outputs": [
    {
     "output_type": "execute_result",
     "data": {
      "text/plain": [
       "[<p>Test contents</p>,\n",
       " <p>Test Test Test 1</p>,\n",
       " <p>Test Test Test 2</p>,\n",
       " <p>Test Test Test 3</p>]"
      ]
     },
     "metadata": {},
     "execution_count": 14
    }
   ],
   "metadata": {}
  },
  {
   "cell_type": "markdown",
   "source": [
    "# 추가 작업 #\n",
    "## get_text : 텍스트만 뽑아내기 ##\n",
    "## 배열참조 : 태그의 attribute 값 추출하기 ##"
   ],
   "metadata": {}
  },
  {
   "cell_type": "code",
   "execution_count": 28,
   "source": [
    "tag = soup.find('h3')\n",
    "print('h3: \\n{}'.format(tag.get_text()))\n",
    "print('')\n",
    "tag = soup.find('div', id = 'upper')\n",
    "print('div and upper: \\n{}'.format(tag.get_text().strip()))"
   ],
   "outputs": [
    {
     "output_type": "stream",
     "name": "stdout",
     "text": [
      "h3: \n",
      "Contents Title\n",
      "\n",
      "div and upper: \n",
      "Contents Title\n",
      "Test contents\n"
     ]
    }
   ],
   "metadata": {}
  },
  {
   "cell_type": "code",
   "execution_count": 33,
   "source": [
    "tag = soup.find('div')\n",
    "print(tag)\n",
    "print(tag['custom'])"
   ],
   "outputs": [
    {
     "output_type": "stream",
     "name": "stdout",
     "text": [
      "<div class=\"test\" custom=\"good\" id=\"upper\">\n",
      "<h3 title=\"Good Content Title\">Contents Title</h3>\n",
      "<p>Test contents</p>\n",
      "</div>\n",
      "good\n"
     ]
    }
   ],
   "metadata": {}
  },
  {
   "cell_type": "markdown",
   "source": [
    "# Select = Find_all #"
   ],
   "metadata": {}
  },
  {
   "cell_type": "code",
   "execution_count": 35,
   "source": [
    "print(soup.select('p'))\n",
    "print(soup.find_all('p'))"
   ],
   "outputs": [
    {
     "output_type": "stream",
     "name": "stdout",
     "text": [
      "[<p>Test contents</p>, <p>Test Test Test 1</p>, <p>Test Test Test 2</p>, <p>Test Test Test 3</p>]\n",
      "[<p>Test contents</p>, <p>Test Test Test 1</p>, <p>Test Test Test 2</p>, <p>Test Test Test 3</p>]\n"
     ]
    }
   ],
   "metadata": {}
  }
 ],
 "metadata": {
  "orig_nbformat": 4,
  "language_info": {
   "name": "python",
   "version": "3.9.0",
   "mimetype": "text/x-python",
   "codemirror_mode": {
    "name": "ipython",
    "version": 3
   },
   "pygments_lexer": "ipython3",
   "nbconvert_exporter": "python",
   "file_extension": ".py"
  },
  "kernelspec": {
   "name": "python3",
   "display_name": "Python 3.9.0 64-bit ('myenv': conda)"
  },
  "interpreter": {
   "hash": "2e165846ff116b8adeb4f326f1aef0323b066b1a9921feb59d8d3c91d647cdb0"
  }
 },
 "nbformat": 4,
 "nbformat_minor": 2
}