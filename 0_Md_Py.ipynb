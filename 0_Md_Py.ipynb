{
    "cells": [
        {
            "cell_type": "markdown",
            "source": [
                "# Hello python"
            ],
            "metadata": {}
        },
        {
            "cell_type": "markdown",
            "source": [
                "별을 하나 사용하면 *Italic* 입니다.\n",
                "\n",
                "별을 두개 사용하면 **Bold** 입니다.\n",
                "\n",
                "별을 세개 사용하면 ***Italic_Bold*** 입니다.\n",
                "\n",
                "'-'를 사용하면 unordered list입니다.\n",
                "- a\n",
                "    - aa\n",
                "    - ab\n",
                "        - abc\n",
                "    - ac\n",
                "- b\n",
                "- c\n",
                "\n",
                "'1.'을 사용하면 ordered list입니다.\n",
                "1. hello\n",
                "2. my\n",
                "3. yesterday\n",
                "\n",
                "> 인용구는 '>'을 앞에 사용해 만들 수 있습니다.\n",
                "\n",
                "수학 기호는 '$'로 감싸주면 됩니다.\n",
                "$y = f(x) = 3x + 5$\n",
                "\n",
                "하이퍼링크를 달려면 대괄호와 소괄호의 쌍으로 만들면 됩니다: [네이버](www.naver.com)"
            ],
            "metadata": {}
        },
        {
            "cell_type": "markdown",
            "source": [
                "# 키워드 파라미터: ** 를 사용해 인자를 매핑하기 #\n",
                "- **가 붙은 경우에는 키워드 파라미터로 인식\n",
                "- 즉, 호출 시 파라미터의 이름과 값을 함께 전달함\n",
                "- dict의 형태로 전달됨\n",
                "- 관례적으로 변수 이름은 kwargs로 정함. (key-word arguments)"
            ],
            "metadata": {}
        },
        {
            "cell_type": "code",
            "execution_count": 5,
            "source": [
                "def keyword_parameter(**kwargs):\n",
                "    for key, value in kwargs.items():\n",
                "        print('key: ', key, ', value: ', value)\n",
                "\n",
                "keyword_parameter(a = 1, b = 2, d = 3, c = 4, name = \"Bob\", age = 90)"
            ],
            "outputs": [
                {
                    "output_type": "stream",
                    "name": "stdout",
                    "text": [
                        "key:  a , value:  1\n",
                        "key:  b , value:  2\n",
                        "key:  d , value:  3\n",
                        "key:  c , value:  4\n",
                        "key:  name , value:  Bob\n",
                        "key:  age , value:  90\n"
                    ]
                }
            ],
            "metadata": {}
        },
        {
            "cell_type": "markdown",
            "source": [
                "# 람다 함수: 한 번만 사용할 함수를 간편하게 #\n",
                "## lambda [입력]: [출력] ##"
            ],
            "metadata": {}
        },
        {
            "cell_type": "code",
            "execution_count": 14,
            "source": [
                "square = lambda x: x**2\n",
                "print(square(5))\n",
                "\n",
                "add_mul = lambda x, y: (x + y, x * y)\n",
                "print(add_mul(3, 5))\n",
                "\n",
                "strings = ['a', 'ab', 'bca', 'cab', 'dddd', 'aa']\n",
                "strings.sort(key = lambda s: len(s))\n",
                "print(strings)"
            ],
            "outputs": [
                {
                    "output_type": "stream",
                    "name": "stdout",
                    "text": [
                        "25\n",
                        "(8, 15)\n",
                        "['a', 'ab', 'aa', 'bca', 'cab', 'dddd']\n"
                    ]
                }
            ],
            "metadata": {}
        },
        {
            "cell_type": "code",
            "execution_count": 21,
            "source": [
                "# list(filter(필터링 함수, 필터링 대상))\n",
                "strings = ['a', 'ab', 'bca', 'cab', 'dddd', 'aa']\n",
                "list(filter(lambda s: len(s) <= 2, strings))"
            ],
            "outputs": [
                {
                    "output_type": "execute_result",
                    "data": {
                        "text/plain": [
                            "['a', 'ab', 'aa']"
                        ]
                    },
                    "metadata": {},
                    "execution_count": 21
                }
            ],
            "metadata": {}
        },
        {
            "cell_type": "code",
            "execution_count": 22,
            "source": [
                "# list(map(매핑 함수, 매핑 대상))\n",
                "nums = [1, 2, 3, 5, 8, 13, 34, 21, 55]\n",
                "list(map(lambda n: n**2, nums))"
            ],
            "outputs": [
                {
                    "output_type": "execute_result",
                    "data": {
                        "text/plain": [
                            "[1, 4, 9, 25, 64, 169, 1156, 441, 3025]"
                        ]
                    },
                    "metadata": {},
                    "execution_count": 22
                }
            ],
            "metadata": {}
        },
        {
            "cell_type": "code",
            "execution_count": 24,
            "source": [
                "import functools\n",
                "\n",
                "nums = [1, 2, 3, 5, 8, 13, 34, 21, 55]\n",
                "res = functools.reduce(lambda x, y: x + y, nums)\n",
                "print(res)"
            ],
            "outputs": [
                {
                    "output_type": "stream",
                    "name": "stdout",
                    "text": [
                        "142\n"
                    ]
                }
            ],
            "metadata": {}
        },
        {
            "cell_type": "code",
            "execution_count": 35,
            "source": [
                "import requests\n",
                "from bs4 import BeautifulSoup\n",
                "import re\n",
                "from selenium import webdriver\n",
                "from selenium.webdriver.common.keys import Keys\n",
                "from selenium.webdriver.support.ui import WebDriverWait\n",
                "from selenium.webdriver.support import expected_conditions as EC\n",
                "from selenium.webdriver.common.by import By\n",
                "import time\n",
                "import numpy\n",
                "import pandas"
            ],
            "outputs": [],
            "metadata": {}
        },
        {
            "cell_type": "code",
            "execution_count": 39,
            "source": [
                "chrome_driver = '/Users/elplaguister/Dev/Study_DataAnalysis/chromedriver'\n",
                "driver = webdriver.Chrome(chrome_driver)\n"
            ],
            "outputs": [],
            "metadata": {}
        },
        {
            "cell_type": "code",
            "execution_count": null,
            "source": [],
            "outputs": [],
            "metadata": {}
        }
    ],
    "metadata": {
        "orig_nbformat": 4,
        "language_info": {
            "name": "python",
            "version": "3.9.0",
            "mimetype": "text/x-python",
            "codemirror_mode": {
                "name": "ipython",
                "version": 3
            },
            "pygments_lexer": "ipython3",
            "nbconvert_exporter": "python",
            "file_extension": ".py"
        },
        "kernelspec": {
            "name": "python3",
            "display_name": "Python 3.9.0 64-bit ('myenv': conda)"
        },
        "interpreter": {
            "hash": "2e165846ff116b8adeb4f326f1aef0323b066b1a9921feb59d8d3c91d647cdb0"
        }
    },
    "nbformat": 4,
    "nbformat_minor": 2
}