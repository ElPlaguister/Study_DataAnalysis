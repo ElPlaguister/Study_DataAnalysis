{
    "cells": [
        {
            "cell_type": "markdown",
            "source": [
                "# Hello python"
            ],
            "metadata": {}
        },
        {
            "cell_type": "markdown",
            "source": [
                "별을 하나 사용하면 *Italic* 입니다.\n",
                "\n",
                "별을 두개 사용하면 **Bold** 입니다.\n",
                "\n",
                "별을 세개 사용하면 ***Italic_Bold*** 입니다.\n",
                "\n",
                "'-'를 사용하면 unordered list입니다.\n",
                "- a\n",
                "    - aa\n",
                "    - ab\n",
                "        - abc\n",
                "    - ac\n",
                "- b\n",
                "- c\n",
                "\n",
                "'1.'을 사용하면 ordered list입니다.\n",
                "1. hello\n",
                "2. my\n",
                "3. yesterday\n",
                "\n",
                "> 인용구는 '>'을 앞에 사용해 만들 수 있습니다.\n",
                "\n",
                "수학 기호는 '$'로 감싸주면 됩니다.\n",
                "$y = f(x) = 3x + 5$\n",
                "\n",
                "하이퍼링크를 달려면 대괄호와 소괄호의 쌍으로 만들면 됩니다: [네이버](www.naver.com)"
            ],
            "metadata": {}
        },
        {
            "cell_type": "markdown",
            "source": [
                "# 키워드 파라미터: ** 를 사용해 인자를 매핑하기 #\n",
                "- **가 붙은 경우에는 키워드 파라미터로 인식\n",
                "- 즉, 호출 시 파라미터의 이름과 값을 함께 전달함\n",
                "- dict의 형태로 전달됨\n",
                "- 관례적으로 변수 이름은 kwargs로 정함. (key-word arguments)"
            ],
            "metadata": {}
        },
        {
            "cell_type": "code",
            "execution_count": 5,
            "source": [
                "def keyword_parameter(**kwargs):\n",
                "    for key, value in kwargs.items():\n",
                "        print('key: ', key, ', value: ', value)\n",
                "\n",
                "keyword_parameter(a = 1, b = 2, d = 3, c = 4, name = \"Bob\", age = 90)"
            ],
            "outputs": [
                {
                    "output_type": "stream",
                    "name": "stdout",
                    "text": [
                        "key:  a , value:  1\n",
                        "key:  b , value:  2\n",
                        "key:  d , value:  3\n",
                        "key:  c , value:  4\n",
                        "key:  name , value:  Bob\n",
                        "key:  age , value:  90\n"
                    ]
                }
            ],
            "metadata": {}
        },
        {
            "cell_type": "markdown",
            "source": [
                "# 람다 함수: 한 번만 사용할 함수를 간편하게 #\n",
                "## lambda [입력]: [출력] ##"
            ],
            "metadata": {}
        },
        {
            "cell_type": "code",
            "execution_count": 14,
            "source": [
                "square = lambda x: x**2\n",
                "print(square(5))\n",
                "\n",
                "add_mul = lambda x, y: (x + y, x * y)\n",
                "print(add_mul(3, 5))\n",
                "\n",
                "strings = ['a', 'ab', 'bca', 'cab', 'dddd', 'aa']\n",
                "strings.sort(key = lambda s: len(s))\n",
                "print(strings)"
            ],
            "outputs": [
                {
                    "output_type": "stream",
                    "name": "stdout",
                    "text": [
                        "25\n",
                        "(8, 15)\n",
                        "['a', 'ab', 'aa', 'bca', 'cab', 'dddd']\n"
                    ]
                }
            ],
            "metadata": {}
        },
        {
            "cell_type": "code",
            "execution_count": 21,
            "source": [
                "# list(filter(필터링 함수, 필터링 대상))\n",
                "strings = ['a', 'ab', 'bca', 'cab', 'dddd', 'aa']\n",
                "list(filter(lambda s: len(s) <= 2, strings))"
            ],
            "outputs": [
                {
                    "output_type": "execute_result",
                    "data": {
                        "text/plain": [
                            "['a', 'ab', 'aa']"
                        ]
                    },
                    "metadata": {},
                    "execution_count": 21
                }
            ],
            "metadata": {}
        },
        {
            "cell_type": "code",
            "execution_count": 22,
            "source": [
                "# list(map(매핑 함수, 매핑 대상))\n",
                "nums = [1, 2, 3, 5, 8, 13, 34, 21, 55]\n",
                "list(map(lambda n: n**2, nums))"
            ],
            "outputs": [
                {
                    "output_type": "execute_result",
                    "data": {
                        "text/plain": [
                            "[1, 4, 9, 25, 64, 169, 1156, 441, 3025]"
                        ]
                    },
                    "metadata": {},
                    "execution_count": 22
                }
            ],
            "metadata": {}
        },
        {
            "cell_type": "code",
            "execution_count": 24,
            "source": [
                "import functools\n",
                "\n",
                "nums = [1, 2, 3, 5, 8, 13, 34, 21, 55]\n",
                "res = functools.reduce(lambda x, y: x + y, nums)\n",
                "print(res)"
            ],
            "outputs": [
                {
                    "output_type": "stream",
                    "name": "stdout",
                    "text": [
                        "142\n"
                    ]
                }
            ],
            "metadata": {}
        },
        {
            "cell_type": "markdown",
            "source": [
                "# 정규 표현식 #"
            ],
            "metadata": {}
        },
        {
            "cell_type": "code",
            "execution_count": 1,
            "source": [
                "import re"
            ],
            "outputs": [],
            "metadata": {}
        },
        {
            "cell_type": "markdown",
            "source": [
                "## 기본 패턴 ##\n",
                "- '.' : 엔터를 제외한 임의의 문자\n",
                "    - 대문자면 not의 의미를 가짐\n",
                "    - '\\w': [a-zA-Z0-9]범위의 문자\n",
                "    - '\\s': 공백 문자\n",
                "    - '\\d': [0-9]\n",
                "- '^' : 문자열의 시작\n",
                "- '$' : 문자열의 끝\n",
                "- '\\r': return\n",
                "- '\\t': tab\n",
                "- '\\n': newline"
            ],
            "metadata": {}
        },
        {
            "cell_type": "code",
            "execution_count": 15,
            "source": [
                "m = re.search(r'aa', 'abaaa')\n",
                "print(m)\n",
                "print(m.start())\n",
                "print(m.end())\n",
                "print(m.group())"
            ],
            "outputs": [
                {
                    "output_type": "stream",
                    "name": "stdout",
                    "text": [
                        "<re.Match object; span=(2, 4), match='aa'>\n",
                        "2\n",
                        "4\n",
                        "aa\n"
                    ]
                }
            ],
            "metadata": {}
        },
        {
            "cell_type": "code",
            "execution_count": 17,
            "source": [
                "m = re.search(r'\\d\\d\\d\\w', '112abcdef119')\n",
                "m"
            ],
            "outputs": [
                {
                    "output_type": "execute_result",
                    "data": {
                        "text/plain": [
                            "<re.Match object; span=(0, 4), match='112a'>"
                        ]
                    },
                    "metadata": {},
                    "execution_count": 17
                }
            ],
            "metadata": {}
        },
        {
            "cell_type": "code",
            "execution_count": 18,
            "source": [
                "m = re.search(r'..\\w\\w', '@#$%ABCDabcd1234')\n",
                "m"
            ],
            "outputs": [
                {
                    "output_type": "execute_result",
                    "data": {
                        "text/plain": [
                            "<re.Match object; span=(2, 6), match='$%AB'>"
                        ]
                    },
                    "metadata": {},
                    "execution_count": 18
                }
            ],
            "metadata": {}
        },
        {
            "cell_type": "markdown",
            "source": [
                "## [ ] ##\n",
                "- [a-b]: a부터 b까지\n",
                "- [ab] : a나 b\n",
                "- [^a-b] : not (a부터 b까지)"
            ],
            "metadata": {}
        },
        {
            "cell_type": "code",
            "execution_count": 20,
            "source": [
                "m = re.search(r'[cbm]at', 'cat')\n",
                "print(m)"
            ],
            "outputs": [
                {
                    "output_type": "stream",
                    "name": "stdout",
                    "text": [
                        "<re.Match object; span=(0, 3), match='cat'>\n"
                    ]
                }
            ],
            "metadata": {}
        },
        {
            "cell_type": "code",
            "execution_count": 24,
            "source": [
                "m = re.search(r'[^0-9b-c]abc', 'aabc')\n",
                "print(m)"
            ],
            "outputs": [
                {
                    "output_type": "stream",
                    "name": "stdout",
                    "text": [
                        "<re.Match object; span=(0, 4), match='aabc'>\n"
                    ]
                }
            ],
            "metadata": {}
        },
        {
            "cell_type": "markdown",
            "source": [
                "## 반복패턴 ##\n",
                "- '+' : 1번 이상의 패턴이 발생\n",
                "- '*' : 0번 이상의 패턴이 발생\n",
                "- '?' : 0 ~ 1번의 패턴이 발생\n",
                "- 여러 문자열이 가능한 경우, 가장 긴 문자열이 매칭되도록 함"
            ],
            "metadata": {}
        },
        {
            "cell_type": "code",
            "execution_count": 26,
            "source": [
                "re.search(r'a[bcd]*b', 'abcbdccb')"
            ],
            "outputs": [
                {
                    "output_type": "execute_result",
                    "data": {
                        "text/plain": [
                            "<re.Match object; span=(0, 8), match='abcbdccb'>"
                        ]
                    },
                    "metadata": {},
                    "execution_count": 26
                }
            ],
            "metadata": {}
        },
        {
            "cell_type": "code",
            "execution_count": 29,
            "source": [
                "re.search(r'b\\w+an', 'banana')"
            ],
            "outputs": [
                {
                    "output_type": "execute_result",
                    "data": {
                        "text/plain": [
                            "<re.Match object; span=(0, 5), match='banan'>"
                        ]
                    },
                    "metadata": {},
                    "execution_count": 29
                }
            ],
            "metadata": {}
        },
        {
            "cell_type": "code",
            "execution_count": 30,
            "source": [
                "re.search(r'i+', 'piigiii')"
            ],
            "outputs": [
                {
                    "output_type": "execute_result",
                    "data": {
                        "text/plain": [
                            "<re.Match object; span=(1, 3), match='ii'>"
                        ]
                    },
                    "metadata": {},
                    "execution_count": 30
                }
            ],
            "metadata": {}
        },
        {
            "cell_type": "code",
            "execution_count": 34,
            "source": [
                "re.search(r'https?://www\\.\\w+\\.\\w+', 'https://www.naver.com')"
            ],
            "outputs": [
                {
                    "output_type": "execute_result",
                    "data": {
                        "text/plain": [
                            "<re.Match object; span=(0, 21), match='https://www.naver.com'>"
                        ]
                    },
                    "metadata": {},
                    "execution_count": 34
                }
            ],
            "metadata": {}
        },
        {
            "cell_type": "code",
            "execution_count": 3,
            "source": [
                "re.search('pi{3}g', 'piiig')"
            ],
            "outputs": [
                {
                    "output_type": "execute_result",
                    "data": {
                        "text/plain": [
                            "<re.Match object; span=(0, 5), match='piiig'>"
                        ]
                    },
                    "metadata": {},
                    "execution_count": 3
                }
            ],
            "metadata": {}
        },
        {
            "cell_type": "code",
            "execution_count": 7,
            "source": [
                "m = re.search('pi{3,5}g', 'piiiig')\n",
                "print(m)"
            ],
            "outputs": [
                {
                    "output_type": "stream",
                    "name": "stdout",
                    "text": [
                        "<re.Match object; span=(0, 6), match='piiiig'>\n"
                    ]
                }
            ],
            "metadata": {}
        },
        {
            "cell_type": "markdown",
            "source": [
                "# Minimun Matching #\n",
                "- 기본적으로 *, +, ?을 사용하면 greedy하게 동작함\n",
                "- *?, +?을 사용해서 minimun하게 동작시킬 수 있음"
            ],
            "metadata": {}
        },
        {
            "cell_type": "code",
            "execution_count": null,
            "source": [],
            "outputs": [],
            "metadata": {}
        },
        {
            "cell_type": "code",
            "execution_count": 39,
            "source": [
                "chrome_driver = '/Users/elplaguister/Dev/Study_DataAnalysis/chromedriver'\n",
                "driver = webdriver.Chrome(chrome_driver)\n"
            ],
            "outputs": [],
            "metadata": {}
        }
    ],
    "metadata": {
        "orig_nbformat": 4,
        "language_info": {
            "name": "python",
            "version": "3.9.0",
            "mimetype": "text/x-python",
            "codemirror_mode": {
                "name": "ipython",
                "version": 3
            },
            "pygments_lexer": "ipython3",
            "nbconvert_exporter": "python",
            "file_extension": ".py"
        },
        "kernelspec": {
            "name": "python3",
            "display_name": "Python 3.9.0 64-bit ('myenv': conda)"
        },
        "interpreter": {
            "hash": "2e165846ff116b8adeb4f326f1aef0323b066b1a9921feb59d8d3c91d647cdb0"
        }
    },
    "nbformat": 4,
    "nbformat_minor": 2
}